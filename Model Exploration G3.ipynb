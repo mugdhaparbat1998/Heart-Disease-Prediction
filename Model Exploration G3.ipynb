{
 "cells": [
  {
   "cell_type": "markdown",
   "metadata": {},
   "source": [
    "By Grpup - 3 <br>\n",
    "Pranav Pulkundwar <br>\n",
    "Mugdha Parbat\n",
    "# 1. Introduction\n",
    "\n",
    "\n",
    "## Data Set Problems\n",
    "This dataset contains information about diagnosis of heart disease patients. We first perform the data exploration to understand the data dependancies.\n",
    "After that we use Machine learning models in order **to determine whether a person has heart disease or not**.\n",
    "\n",
    "---\n",
    "\n",
    "## Notebook Contains\n",
    "*   Data exploration using libraries.(Section - 4)\n",
    "*   Building ML models that can predict whether patients has heart disease or not. (Section - 5, 6)\n",
    "\n",
    "**The machine learning models used in this project are:** \n",
    "1. K-Nearest Neighbour (KNN)\n",
    "2. Support Vector Machine (SVM)\n",
    "3. Naive Bayes\n",
    "4. Decision Tree\n",
    "5. Random Forest"
   ]
  },
  {
   "cell_type": "markdown",
   "metadata": {},
   "source": [
    "# 2. Importing Libraries"
   ]
  },
  {
   "cell_type": "code",
   "execution_count": 1,
   "metadata": {
    "execution": {
     "iopub.execute_input": "2022-03-08T02:06:56.60462Z",
     "iopub.status.busy": "2022-03-08T02:06:56.603598Z",
     "iopub.status.idle": "2022-03-08T02:06:57.859053Z",
     "shell.execute_reply": "2022-03-08T02:06:57.858074Z",
     "shell.execute_reply.started": "2022-03-08T02:06:56.604412Z"
    }
   },
   "outputs": [],
   "source": [
    "import numpy as np\n",
    "import pandas as pd\n",
    "import matplotlib.pyplot as plt\n",
    "import seaborn as sns\n",
    "from sklearn.linear_model import LogisticRegression\n",
    "from sklearn.model_selection import train_test_split\n",
    "from sklearn.metrics import confusion_matrix\n",
    "from sklearn.metrics import classification_report\n",
    "import os"
   ]
  },
  {
   "cell_type": "markdown",
   "metadata": {},
   "source": [
    "# 3. Importing Data Set"
   ]
  },
  {
   "cell_type": "code",
   "execution_count": 2,
   "metadata": {
    "execution": {
     "iopub.execute_input": "2022-03-08T02:06:57.861262Z",
     "iopub.status.busy": "2022-03-08T02:06:57.861019Z",
     "iopub.status.idle": "2022-03-08T02:06:57.899865Z",
     "shell.execute_reply": "2022-03-08T02:06:57.899036Z",
     "shell.execute_reply.started": "2022-03-08T02:06:57.861235Z"
    }
   },
   "outputs": [
    {
     "data": {
      "text/html": [
       "<div>\n",
       "<style scoped>\n",
       "    .dataframe tbody tr th:only-of-type {\n",
       "        vertical-align: middle;\n",
       "    }\n",
       "\n",
       "    .dataframe tbody tr th {\n",
       "        vertical-align: top;\n",
       "    }\n",
       "\n",
       "    .dataframe thead th {\n",
       "        text-align: right;\n",
       "    }\n",
       "</style>\n",
       "<table border=\"1\" class=\"dataframe\">\n",
       "  <thead>\n",
       "    <tr style=\"text-align: right;\">\n",
       "      <th></th>\n",
       "      <th>age</th>\n",
       "      <th>sex</th>\n",
       "      <th>cp</th>\n",
       "      <th>trestbps</th>\n",
       "      <th>chol</th>\n",
       "      <th>fbs</th>\n",
       "      <th>restecg</th>\n",
       "      <th>thalach</th>\n",
       "      <th>exang</th>\n",
       "      <th>oldpeak</th>\n",
       "      <th>slope</th>\n",
       "      <th>ca</th>\n",
       "      <th>thal</th>\n",
       "      <th>target</th>\n",
       "    </tr>\n",
       "  </thead>\n",
       "  <tbody>\n",
       "    <tr>\n",
       "      <th>0</th>\n",
       "      <td>63</td>\n",
       "      <td>1</td>\n",
       "      <td>3</td>\n",
       "      <td>145</td>\n",
       "      <td>233</td>\n",
       "      <td>1</td>\n",
       "      <td>0</td>\n",
       "      <td>150</td>\n",
       "      <td>0</td>\n",
       "      <td>2.3</td>\n",
       "      <td>0</td>\n",
       "      <td>0</td>\n",
       "      <td>1</td>\n",
       "      <td>1</td>\n",
       "    </tr>\n",
       "    <tr>\n",
       "      <th>1</th>\n",
       "      <td>37</td>\n",
       "      <td>1</td>\n",
       "      <td>2</td>\n",
       "      <td>130</td>\n",
       "      <td>250</td>\n",
       "      <td>0</td>\n",
       "      <td>1</td>\n",
       "      <td>187</td>\n",
       "      <td>0</td>\n",
       "      <td>3.5</td>\n",
       "      <td>0</td>\n",
       "      <td>0</td>\n",
       "      <td>2</td>\n",
       "      <td>1</td>\n",
       "    </tr>\n",
       "    <tr>\n",
       "      <th>2</th>\n",
       "      <td>41</td>\n",
       "      <td>0</td>\n",
       "      <td>1</td>\n",
       "      <td>130</td>\n",
       "      <td>204</td>\n",
       "      <td>0</td>\n",
       "      <td>0</td>\n",
       "      <td>172</td>\n",
       "      <td>0</td>\n",
       "      <td>1.4</td>\n",
       "      <td>2</td>\n",
       "      <td>0</td>\n",
       "      <td>2</td>\n",
       "      <td>1</td>\n",
       "    </tr>\n",
       "    <tr>\n",
       "      <th>3</th>\n",
       "      <td>56</td>\n",
       "      <td>1</td>\n",
       "      <td>1</td>\n",
       "      <td>120</td>\n",
       "      <td>236</td>\n",
       "      <td>0</td>\n",
       "      <td>1</td>\n",
       "      <td>178</td>\n",
       "      <td>0</td>\n",
       "      <td>0.8</td>\n",
       "      <td>2</td>\n",
       "      <td>0</td>\n",
       "      <td>2</td>\n",
       "      <td>1</td>\n",
       "    </tr>\n",
       "    <tr>\n",
       "      <th>4</th>\n",
       "      <td>57</td>\n",
       "      <td>0</td>\n",
       "      <td>0</td>\n",
       "      <td>120</td>\n",
       "      <td>354</td>\n",
       "      <td>0</td>\n",
       "      <td>1</td>\n",
       "      <td>163</td>\n",
       "      <td>1</td>\n",
       "      <td>0.6</td>\n",
       "      <td>2</td>\n",
       "      <td>0</td>\n",
       "      <td>2</td>\n",
       "      <td>1</td>\n",
       "    </tr>\n",
       "  </tbody>\n",
       "</table>\n",
       "</div>"
      ],
      "text/plain": [
       "   age  sex  cp  trestbps  chol  fbs  restecg  thalach  exang  oldpeak  slope  \\\n",
       "0   63    1   3       145   233    1        0      150      0      2.3      0   \n",
       "1   37    1   2       130   250    0        1      187      0      3.5      0   \n",
       "2   41    0   1       130   204    0        0      172      0      1.4      2   \n",
       "3   56    1   1       120   236    0        1      178      0      0.8      2   \n",
       "4   57    0   0       120   354    0        1      163      1      0.6      2   \n",
       "\n",
       "   ca  thal  target  \n",
       "0   0     1       1  \n",
       "1   0     2       1  \n",
       "2   0     2       1  \n",
       "3   0     2       1  \n",
       "4   0     2       1  "
      ]
     },
     "execution_count": 2,
     "metadata": {},
     "output_type": "execute_result"
    }
   ],
   "source": [
    "df = pd.read_csv(\"heart.csv\")\n",
    "df.head()"
   ]
  },
  {
   "cell_type": "markdown",
   "metadata": {},
   "source": [
    "# 4. Dataset Exploration\n",
    "\n",
    "Exploring the dataset that has been imorted."
   ]
  },
  {
   "cell_type": "markdown",
   "metadata": {},
   "source": [
    "## 4.1 Target Distribution"
   ]
  },
  {
   "cell_type": "code",
   "execution_count": 3,
   "metadata": {
    "execution": {
     "iopub.execute_input": "2022-03-08T02:06:57.901749Z",
     "iopub.status.busy": "2022-03-08T02:06:57.901462Z",
     "iopub.status.idle": "2022-03-08T02:06:57.915183Z",
     "shell.execute_reply": "2022-03-08T02:06:57.914475Z",
     "shell.execute_reply.started": "2022-03-08T02:06:57.90172Z"
    }
   },
   "outputs": [
    {
     "data": {
      "text/plain": [
       "1    165\n",
       "0    138\n",
       "Name: target, dtype: int64"
      ]
     },
     "execution_count": 3,
     "metadata": {},
     "output_type": "execute_result"
    }
   ],
   "source": [
    "df.target.value_counts()"
   ]
  },
  {
   "cell_type": "code",
   "execution_count": 4,
   "metadata": {
    "execution": {
     "iopub.execute_input": "2022-03-08T02:06:57.917326Z",
     "iopub.status.busy": "2022-03-08T02:06:57.916518Z",
     "iopub.status.idle": "2022-03-08T02:06:58.135399Z",
     "shell.execute_reply": "2022-03-08T02:06:58.134616Z",
     "shell.execute_reply.started": "2022-03-08T02:06:57.917284Z"
    }
   },
   "outputs": [
    {
     "data": {
      "image/png": "[encoded data removed]",
      "text/plain": [
       "<Figure size 432x288 with 1 Axes>"
      ]
     },
     "metadata": {
      "needs_background": "light"
     },
     "output_type": "display_data"
    }
   ],
   "source": [
    "sns.countplot(y = \"target\", data = df, palette = 'plasma')\n",
    "plt.show()"
   ]
  },
  {
   "cell_type": "code",
   "execution_count": 5,
   "metadata": {
    "execution": {
     "iopub.execute_input": "2022-03-08T02:06:58.137731Z",
     "iopub.status.busy": "2022-03-08T02:06:58.137459Z",
     "iopub.status.idle": "2022-03-08T02:06:58.147769Z",
     "shell.execute_reply": "2022-03-08T02:06:58.146441Z",
     "shell.execute_reply.started": "2022-03-08T02:06:58.137703Z"
    }
   },
   "outputs": [
    {
     "name": "stdout",
     "output_type": "stream",
     "text": [
      "Percentage of patients without Heart disease: 45.54455445544555%\n",
      "Percentage of patients with Heart disease: 54.45544554455446%\n"
     ]
    }
   ],
   "source": [
    "count_no_sick = len(df[df.target == 0])\n",
    "\n",
    "count_sick = len(df[df.target == 1])\n",
    "\n",
    "print(\"Percentage of patients without Heart disease: {}%\".format((count_no_sick / (len(df.target))*100)))\n",
    "\n",
    "print(\"Percentage of patients with Heart disease: {}%\".format((count_sick / (len(df.target))*100)))"
   ]
  },
  {
   "cell_type": "markdown",
   "metadata": {},
   "source": [
    "The above results tell us number of patients that have heart disease are higher than healthy patients.\n"
   ]
  },
  {
   "cell_type": "markdown",
   "metadata": {},
   "source": [
    "## 4.2 Gender Distribution"
   ]
  },
  {
   "cell_type": "code",
   "execution_count": 6,
   "metadata": {
    "execution": {
     "iopub.execute_input": "2022-03-08T02:06:58.152498Z",
     "iopub.status.busy": "2022-03-08T02:06:58.151986Z",
     "iopub.status.idle": "2022-03-08T02:06:58.330902Z",
     "shell.execute_reply": "2022-03-08T02:06:58.330286Z",
     "shell.execute_reply.started": "2022-03-08T02:06:58.152419Z"
    }
   },
   "outputs": [
    {
     "data": {
      "image/png": "[encoded data removed]",
      "text/plain": [
       "<Figure size 432x288 with 1 Axes>"
      ]
     },
     "metadata": {
      "needs_background": "light"
     },
     "output_type": "display_data"
    }
   ],
   "source": [
    "sns.countplot(y = 'sex', data = df, palette = 'summer')\n",
    "plt.xlabel(\"Gender (0 = Female, 1 = Male)\")\n",
    "plt.show()"
   ]
  },
  {
   "cell_type": "code",
   "execution_count": 7,
   "metadata": {
    "execution": {
     "iopub.execute_input": "2022-03-08T02:06:58.332262Z",
     "iopub.status.busy": "2022-03-08T02:06:58.33192Z",
     "iopub.status.idle": "2022-03-08T02:06:58.339221Z",
     "shell.execute_reply": "2022-03-08T02:06:58.338601Z",
     "shell.execute_reply.started": "2022-03-08T02:06:58.332235Z"
    }
   },
   "outputs": [
    {
     "name": "stdout",
     "output_type": "stream",
     "text": [
      "Percentage of Female: 31.683168316831683%\n",
      "Percentage of Male: 68.31683168316832%\n"
     ]
    }
   ],
   "source": [
    "count_female = len(df[df.sex == 0])\n",
    "\n",
    "count_male = len(df[df.sex == 1])\n",
    "\n",
    "print(\"Percentage of Female: {}%\".format((count_female / (len(df.sex))*100)))\n",
    "\n",
    "print(\"Percentage of Male: {}%\".format((count_male / (len(df.sex))*100)))"
   ]
  },
  {
   "cell_type": "markdown",
   "metadata": {},
   "source": [
    "Male patients are more prone to heart disease than female patients."
   ]
  },
  {
   "cell_type": "markdown",
   "metadata": {},
   "source": [
    "## 4.3 Variation of age for each target class"
   ]
  },
  {
   "cell_type": "code",
   "execution_count": 8,
   "metadata": {
    "execution": {
     "iopub.execute_input": "2022-03-08T02:06:58.363686Z",
     "iopub.status.busy": "2022-03-08T02:06:58.363415Z",
     "iopub.status.idle": "2022-03-08T02:06:59.154179Z",
     "shell.execute_reply": "2022-03-08T02:06:59.153571Z",
     "shell.execute_reply.started": "2022-03-08T02:06:58.363659Z"
    }
   },
   "outputs": [
    {
     "data": {
      "image/png": "[encoded data removed]",
      "text/plain": [
       "<Figure size 1728x648 with 1 Axes>"
      ]
     },
     "metadata": {
      "needs_background": "light"
     },
     "output_type": "display_data"
    }
   ],
   "source": [
    "pd.crosstab(df.age,df.target).plot(kind = \"bar\", figsize = (24,9), color = ['#4B40C0','#C4BBB8' ])\n",
    "\n",
    "plt.title('Variation of age for each target class')\n",
    "plt.xlabel('Age')\n",
    "plt.ylabel('Frequency')\n",
    "\n",
    "plt.show()"
   ]
  },
  {
   "cell_type": "markdown",
   "metadata": {},
   "source": [
    "Patients who have the most heart disease are in the age range of 41 to 54 years. <br>\n",
    "While patients who do not have heart disease are mostly in the age range of 54 to 64 years."
   ]
  },
  {
   "cell_type": "markdown",
   "metadata": {},
   "source": [
    "## 4.4 Heart Disease Frequency based on Gender"
   ]
  },
  {
   "cell_type": "code",
   "execution_count": 9,
   "metadata": {
    "execution": {
     "iopub.execute_input": "2022-03-08T02:06:59.155846Z",
     "iopub.status.busy": "2022-03-08T02:06:59.155144Z",
     "iopub.status.idle": "2022-03-08T02:06:59.385634Z",
     "shell.execute_reply": "2022-03-08T02:06:59.384604Z",
     "shell.execute_reply.started": "2022-03-08T02:06:59.155805Z"
    }
   },
   "outputs": [
    {
     "data": {
      "image/png": "[encoded data removed]",
      "text/plain": [
       "<Figure size 720x360 with 1 Axes>"
      ]
     },
     "metadata": {
      "needs_background": "light"
     },
     "output_type": "display_data"
    }
   ],
   "source": [
    "pd.crosstab(df.sex,df.target).plot(kind = \"bar\", figsize = (10,5), color = ['#C9CE50', '#66213D'])\n",
    "\n",
    "plt.title('Heart Disease Frequency based on Gender')\n",
    "\n",
    "plt.xlabel('Sex (0 = Female, 1 = Male)')\n",
    "plt.xticks(rotation = 0)\n",
    "\n",
    "plt.legend([\"Not Sick\", \"Sick\"])\n",
    "plt.ylabel('Frequency')\n",
    "\n",
    "plt.show()"
   ]
  },
  {
   "cell_type": "markdown",
   "metadata": {},
   "source": [
    "We observe that heart disease is dominant in women. <br>\n",
    "Meanwhile, lower number of men have heart disease."
   ]
  },
  {
   "cell_type": "markdown",
   "metadata": {},
   "source": [
    "## 4.5 Scatter Plot based on Age"
   ]
  },
  {
   "cell_type": "code",
   "execution_count": 10,
   "metadata": {
    "execution": {
     "iopub.execute_input": "2022-03-08T02:06:59.3872Z",
     "iopub.status.busy": "2022-03-08T02:06:59.386991Z",
     "iopub.status.idle": "2022-03-08T02:06:59.650437Z",
     "shell.execute_reply": "2022-03-08T02:06:59.649629Z",
     "shell.execute_reply.started": "2022-03-08T02:06:59.387175Z"
    }
   },
   "outputs": [
    {
     "data": {
      "image/png": "[encoded data removed]",
      "text/plain": [
       "<Figure size 432x288 with 1 Axes>"
      ]
     },
     "metadata": {
      "needs_background": "light"
     },
     "output_type": "display_data"
    }
   ],
   "source": [
    "plt.scatter(x = df.age[df.target == 1], y = df.thalach[(df.target == 1)], c = \"Orange\")\n",
    "plt.scatter(x = df.age[df.target == 0], y = df.thalach[(df.target == 0)], c = \"blue\")\n",
    "\n",
    "plt.legend([\"Sick\", \"Not Sick\"])\n",
    "plt.xlabel(\"Age\")\n",
    "plt.ylabel(\"Max Heart-Rate\")\n",
    "\n",
    "plt.show()"
   ]
  },
  {
   "cell_type": "markdown",
   "metadata": {},
   "source": [
    "## 4.6 Heart Disease Frequency According To FBS"
   ]
  },
  {
   "cell_type": "code",
   "execution_count": 11,
   "metadata": {
    "execution": {
     "iopub.execute_input": "2022-03-08T02:06:59.896058Z",
     "iopub.status.busy": "2022-03-08T02:06:59.895654Z",
     "iopub.status.idle": "2022-03-08T02:07:00.1345Z",
     "shell.execute_reply": "2022-03-08T02:07:00.13362Z",
     "shell.execute_reply.started": "2022-03-08T02:06:59.896001Z"
    }
   },
   "outputs": [
    {
     "data": {
      "image/png": "[encoded data removed]",
      "text/plain": [
       "<Figure size 720x360 with 1 Axes>"
      ]
     },
     "metadata": {
      "needs_background": "light"
     },
     "output_type": "display_data"
    }
   ],
   "source": [
    "pd.crosstab(df.fbs,df.target).plot(kind = \"bar\", figsize = (10,5), color = ['#AB4E68','#C4A287' ])\n",
    "plt.title('Heart Disease Frequency According To FBS')\n",
    "plt.xlabel('FBS > 120 mg/dl (1 = true; 0 = false)')\n",
    "plt.xticks(rotation = 0)\n",
    "plt.legend([\"Not Sick\", \"Sick\"])\n",
    "plt.ylabel('Frequency Sick/Not Sick')\n",
    "plt.show()"
   ]
  },
  {
   "cell_type": "markdown",
   "metadata": {},
   "source": [
    "The number of patients who have / do not have heart disease is higher in those who do not do fasting blood sugar."
   ]
  },
  {
   "cell_type": "markdown",
   "metadata": {},
   "source": [
    "## 4.7 Heart Disease Frequency According To Chest Pain Type"
   ]
  },
  {
   "cell_type": "code",
   "execution_count": 12,
   "metadata": {
    "execution": {
     "iopub.execute_input": "2022-03-08T02:07:00.138228Z",
     "iopub.status.busy": "2022-03-08T02:07:00.138025Z",
     "iopub.status.idle": "2022-03-08T02:07:00.3906Z",
     "shell.execute_reply": "2022-03-08T02:07:00.389779Z",
     "shell.execute_reply.started": "2022-03-08T02:07:00.138203Z"
    }
   },
   "outputs": [
    {
     "data": {
      "image/png": "[encoded data removed]",
      "text/plain": [
       "<Figure size 864x432 with 1 Axes>"
      ]
     },
     "metadata": {
      "needs_background": "light"
     },
     "output_type": "display_data"
    }
   ],
   "source": [
    "pd.crosstab(df.cp,df.target).plot(kind = \"bar\", figsize = (12,6), color = ['#FFAE42','#930DBC' ])\n",
    "plt.title('Heart Disease Frequency According To Chest Pain Type')\n",
    "plt.xlabel('Chest Pain Type')\n",
    "plt.xticks(rotation = 0)\n",
    "plt.ylabel('Frequency Sick/Not Sick')\n",
    "plt.show()"
   ]
  },
  {
   "cell_type": "markdown",
   "metadata": {},
   "source": [
    "Chest pain type level 0 has higher number of patients that don't have heart disease. <br>\n",
    "While chest pain type level 2 has higher number of patients that have heart disease."
   ]
  },
  {
   "cell_type": "markdown",
   "metadata": {},
   "source": [
    "# 5. Dataset Preparation"
   ]
  },
  {
   "cell_type": "markdown",
   "metadata": {},
   "source": [
    "## 5.1 Creating Dummy Variables\n",
    "\n",
    "Transforming categorical variables using one-hot encoding technique. One hot encoding makes our training data more useful and expressive, and it can be rescaled easily. This improves predictions and classification accuracy of our ML models."
   ]
  },
  {
   "cell_type": "code",
   "execution_count": 13,
   "metadata": {
    "execution": {
     "iopub.execute_input": "2022-03-08T02:07:00.392169Z",
     "iopub.status.busy": "2022-03-08T02:07:00.391908Z",
     "iopub.status.idle": "2022-03-08T02:07:00.416Z",
     "shell.execute_reply": "2022-03-08T02:07:00.415369Z",
     "shell.execute_reply.started": "2022-03-08T02:07:00.392097Z"
    }
   },
   "outputs": [
    {
     "data": {
      "text/html": [
       "<div>\n",
       "<style scoped>\n",
       "    .dataframe tbody tr th:only-of-type {\n",
       "        vertical-align: middle;\n",
       "    }\n",
       "\n",
       "    .dataframe tbody tr th {\n",
       "        vertical-align: top;\n",
       "    }\n",
       "\n",
       "    .dataframe thead th {\n",
       "        text-align: right;\n",
       "    }\n",
       "</style>\n",
       "<table border=\"1\" class=\"dataframe\">\n",
       "  <thead>\n",
       "    <tr style=\"text-align: right;\">\n",
       "      <th></th>\n",
       "      <th>age</th>\n",
       "      <th>sex</th>\n",
       "      <th>cp</th>\n",
       "      <th>trestbps</th>\n",
       "      <th>chol</th>\n",
       "      <th>fbs</th>\n",
       "      <th>restecg</th>\n",
       "      <th>thalach</th>\n",
       "      <th>exang</th>\n",
       "      <th>oldpeak</th>\n",
       "      <th>...</th>\n",
       "      <th>cp_1</th>\n",
       "      <th>cp_2</th>\n",
       "      <th>cp_3</th>\n",
       "      <th>thal_0</th>\n",
       "      <th>thal_1</th>\n",
       "      <th>thal_2</th>\n",
       "      <th>thal_3</th>\n",
       "      <th>slope_0</th>\n",
       "      <th>slope_1</th>\n",
       "      <th>slope_2</th>\n",
       "    </tr>\n",
       "  </thead>\n",
       "  <tbody>\n",
       "    <tr>\n",
       "      <th>0</th>\n",
       "      <td>63</td>\n",
       "      <td>1</td>\n",
       "      <td>3</td>\n",
       "      <td>145</td>\n",
       "      <td>233</td>\n",
       "      <td>1</td>\n",
       "      <td>0</td>\n",
       "      <td>150</td>\n",
       "      <td>0</td>\n",
       "      <td>2.3</td>\n",
       "      <td>...</td>\n",
       "      <td>0</td>\n",
       "      <td>0</td>\n",
       "      <td>1</td>\n",
       "      <td>0</td>\n",
       "      <td>1</td>\n",
       "      <td>0</td>\n",
       "      <td>0</td>\n",
       "      <td>1</td>\n",
       "      <td>0</td>\n",
       "      <td>0</td>\n",
       "    </tr>\n",
       "    <tr>\n",
       "      <th>1</th>\n",
       "      <td>37</td>\n",
       "      <td>1</td>\n",
       "      <td>2</td>\n",
       "      <td>130</td>\n",
       "      <td>250</td>\n",
       "      <td>0</td>\n",
       "      <td>1</td>\n",
       "      <td>187</td>\n",
       "      <td>0</td>\n",
       "      <td>3.5</td>\n",
       "      <td>...</td>\n",
       "      <td>0</td>\n",
       "      <td>1</td>\n",
       "      <td>0</td>\n",
       "      <td>0</td>\n",
       "      <td>0</td>\n",
       "      <td>1</td>\n",
       "      <td>0</td>\n",
       "      <td>1</td>\n",
       "      <td>0</td>\n",
       "      <td>0</td>\n",
       "    </tr>\n",
       "    <tr>\n",
       "      <th>2</th>\n",
       "      <td>41</td>\n",
       "      <td>0</td>\n",
       "      <td>1</td>\n",
       "      <td>130</td>\n",
       "      <td>204</td>\n",
       "      <td>0</td>\n",
       "      <td>0</td>\n",
       "      <td>172</td>\n",
       "      <td>0</td>\n",
       "      <td>1.4</td>\n",
       "      <td>...</td>\n",
       "      <td>1</td>\n",
       "      <td>0</td>\n",
       "      <td>0</td>\n",
       "      <td>0</td>\n",
       "      <td>0</td>\n",
       "      <td>1</td>\n",
       "      <td>0</td>\n",
       "      <td>0</td>\n",
       "      <td>0</td>\n",
       "      <td>1</td>\n",
       "    </tr>\n",
       "    <tr>\n",
       "      <th>3</th>\n",
       "      <td>56</td>\n",
       "      <td>1</td>\n",
       "      <td>1</td>\n",
       "      <td>120</td>\n",
       "      <td>236</td>\n",
       "      <td>0</td>\n",
       "      <td>1</td>\n",
       "      <td>178</td>\n",
       "      <td>0</td>\n",
       "      <td>0.8</td>\n",
       "      <td>...</td>\n",
       "      <td>1</td>\n",
       "      <td>0</td>\n",
       "      <td>0</td>\n",
       "      <td>0</td>\n",
       "      <td>0</td>\n",
       "      <td>1</td>\n",
       "      <td>0</td>\n",
       "      <td>0</td>\n",
       "      <td>0</td>\n",
       "      <td>1</td>\n",
       "    </tr>\n",
       "    <tr>\n",
       "      <th>4</th>\n",
       "      <td>57</td>\n",
       "      <td>0</td>\n",
       "      <td>0</td>\n",
       "      <td>120</td>\n",
       "      <td>354</td>\n",
       "      <td>0</td>\n",
       "      <td>1</td>\n",
       "      <td>163</td>\n",
       "      <td>1</td>\n",
       "      <td>0.6</td>\n",
       "      <td>...</td>\n",
       "      <td>0</td>\n",
       "      <td>0</td>\n",
       "      <td>0</td>\n",
       "      <td>0</td>\n",
       "      <td>0</td>\n",
       "      <td>1</td>\n",
       "      <td>0</td>\n",
       "      <td>0</td>\n",
       "      <td>0</td>\n",
       "      <td>1</td>\n",
       "    </tr>\n",
       "  </tbody>\n",
       "</table>\n",
       "<p>5 rows × 25 columns</p>\n",
       "</div>"
      ],
      "text/plain": [
       "   age  sex  cp  trestbps  chol  fbs  restecg  thalach  exang  oldpeak  ...  \\\n",
       "0   63    1   3       145   233    1        0      150      0      2.3  ...   \n",
       "1   37    1   2       130   250    0        1      187      0      3.5  ...   \n",
       "2   41    0   1       130   204    0        0      172      0      1.4  ...   \n",
       "3   56    1   1       120   236    0        1      178      0      0.8  ...   \n",
       "4   57    0   0       120   354    0        1      163      1      0.6  ...   \n",
       "\n",
       "   cp_1  cp_2  cp_3  thal_0  thal_1  thal_2  thal_3  slope_0  slope_1  slope_2  \n",
       "0     0     0     1       0       1       0       0        1        0        0  \n",
       "1     0     1     0       0       0       1       0        1        0        0  \n",
       "2     1     0     0       0       0       1       0        0        0        1  \n",
       "3     1     0     0       0       0       1       0        0        0        1  \n",
       "4     0     0     0       0       0       1       0        0        0        1  \n",
       "\n",
       "[5 rows x 25 columns]"
      ]
     },
     "execution_count": 13,
     "metadata": {},
     "output_type": "execute_result"
    }
   ],
   "source": [
    "cp = pd.get_dummies(df['cp'], prefix = \"cp\") #pd.get_dummies turns our data into binary vectors, \n",
    "#sklearn also has classes which an carry out one hot encoding but pd.get_dummies keeps the code precise\n",
    "thal = pd.get_dummies(df['thal'], prefix = \"thal\")\n",
    "slope = pd.get_dummies(df['slope'], prefix = \"slope\")\n",
    "\n",
    "frames = [df, cp, thal, slope]\n",
    "df = pd.concat(frames, axis = 1)\n",
    "df.head()"
   ]
  },
  {
   "cell_type": "markdown",
   "metadata": {},
   "source": [
    "## 5.2 Dropping Unnecessary Variables\n",
    "\n",
    "The variables that unnecessary will be deleted."
   ]
  },
  {
   "cell_type": "code",
   "execution_count": 14,
   "metadata": {
    "execution": {
     "iopub.execute_input": "2022-03-08T02:07:00.417419Z",
     "iopub.status.busy": "2022-03-08T02:07:00.417223Z",
     "iopub.status.idle": "2022-03-08T02:07:00.439659Z",
     "shell.execute_reply": "2022-03-08T02:07:00.43865Z",
     "shell.execute_reply.started": "2022-03-08T02:07:00.417396Z"
    }
   },
   "outputs": [
    {
     "data": {
      "text/html": [
       "<div>\n",
       "<style scoped>\n",
       "    .dataframe tbody tr th:only-of-type {\n",
       "        vertical-align: middle;\n",
       "    }\n",
       "\n",
       "    .dataframe tbody tr th {\n",
       "        vertical-align: top;\n",
       "    }\n",
       "\n",
       "    .dataframe thead th {\n",
       "        text-align: right;\n",
       "    }\n",
       "</style>\n",
       "<table border=\"1\" class=\"dataframe\">\n",
       "  <thead>\n",
       "    <tr style=\"text-align: right;\">\n",
       "      <th></th>\n",
       "      <th>age</th>\n",
       "      <th>sex</th>\n",
       "      <th>trestbps</th>\n",
       "      <th>chol</th>\n",
       "      <th>fbs</th>\n",
       "      <th>restecg</th>\n",
       "      <th>thalach</th>\n",
       "      <th>exang</th>\n",
       "      <th>oldpeak</th>\n",
       "      <th>ca</th>\n",
       "      <th>...</th>\n",
       "      <th>cp_1</th>\n",
       "      <th>cp_2</th>\n",
       "      <th>cp_3</th>\n",
       "      <th>thal_0</th>\n",
       "      <th>thal_1</th>\n",
       "      <th>thal_2</th>\n",
       "      <th>thal_3</th>\n",
       "      <th>slope_0</th>\n",
       "      <th>slope_1</th>\n",
       "      <th>slope_2</th>\n",
       "    </tr>\n",
       "  </thead>\n",
       "  <tbody>\n",
       "    <tr>\n",
       "      <th>0</th>\n",
       "      <td>63</td>\n",
       "      <td>1</td>\n",
       "      <td>145</td>\n",
       "      <td>233</td>\n",
       "      <td>1</td>\n",
       "      <td>0</td>\n",
       "      <td>150</td>\n",
       "      <td>0</td>\n",
       "      <td>2.3</td>\n",
       "      <td>0</td>\n",
       "      <td>...</td>\n",
       "      <td>0</td>\n",
       "      <td>0</td>\n",
       "      <td>1</td>\n",
       "      <td>0</td>\n",
       "      <td>1</td>\n",
       "      <td>0</td>\n",
       "      <td>0</td>\n",
       "      <td>1</td>\n",
       "      <td>0</td>\n",
       "      <td>0</td>\n",
       "    </tr>\n",
       "    <tr>\n",
       "      <th>1</th>\n",
       "      <td>37</td>\n",
       "      <td>1</td>\n",
       "      <td>130</td>\n",
       "      <td>250</td>\n",
       "      <td>0</td>\n",
       "      <td>1</td>\n",
       "      <td>187</td>\n",
       "      <td>0</td>\n",
       "      <td>3.5</td>\n",
       "      <td>0</td>\n",
       "      <td>...</td>\n",
       "      <td>0</td>\n",
       "      <td>1</td>\n",
       "      <td>0</td>\n",
       "      <td>0</td>\n",
       "      <td>0</td>\n",
       "      <td>1</td>\n",
       "      <td>0</td>\n",
       "      <td>1</td>\n",
       "      <td>0</td>\n",
       "      <td>0</td>\n",
       "    </tr>\n",
       "    <tr>\n",
       "      <th>2</th>\n",
       "      <td>41</td>\n",
       "      <td>0</td>\n",
       "      <td>130</td>\n",
       "      <td>204</td>\n",
       "      <td>0</td>\n",
       "      <td>0</td>\n",
       "      <td>172</td>\n",
       "      <td>0</td>\n",
       "      <td>1.4</td>\n",
       "      <td>0</td>\n",
       "      <td>...</td>\n",
       "      <td>1</td>\n",
       "      <td>0</td>\n",
       "      <td>0</td>\n",
       "      <td>0</td>\n",
       "      <td>0</td>\n",
       "      <td>1</td>\n",
       "      <td>0</td>\n",
       "      <td>0</td>\n",
       "      <td>0</td>\n",
       "      <td>1</td>\n",
       "    </tr>\n",
       "    <tr>\n",
       "      <th>3</th>\n",
       "      <td>56</td>\n",
       "      <td>1</td>\n",
       "      <td>120</td>\n",
       "      <td>236</td>\n",
       "      <td>0</td>\n",
       "      <td>1</td>\n",
       "      <td>178</td>\n",
       "      <td>0</td>\n",
       "      <td>0.8</td>\n",
       "      <td>0</td>\n",
       "      <td>...</td>\n",
       "      <td>1</td>\n",
       "      <td>0</td>\n",
       "      <td>0</td>\n",
       "      <td>0</td>\n",
       "      <td>0</td>\n",
       "      <td>1</td>\n",
       "      <td>0</td>\n",
       "      <td>0</td>\n",
       "      <td>0</td>\n",
       "      <td>1</td>\n",
       "    </tr>\n",
       "    <tr>\n",
       "      <th>4</th>\n",
       "      <td>57</td>\n",
       "      <td>0</td>\n",
       "      <td>120</td>\n",
       "      <td>354</td>\n",
       "      <td>0</td>\n",
       "      <td>1</td>\n",
       "      <td>163</td>\n",
       "      <td>1</td>\n",
       "      <td>0.6</td>\n",
       "      <td>0</td>\n",
       "      <td>...</td>\n",
       "      <td>0</td>\n",
       "      <td>0</td>\n",
       "      <td>0</td>\n",
       "      <td>0</td>\n",
       "      <td>0</td>\n",
       "      <td>1</td>\n",
       "      <td>0</td>\n",
       "      <td>0</td>\n",
       "      <td>0</td>\n",
       "      <td>1</td>\n",
       "    </tr>\n",
       "  </tbody>\n",
       "</table>\n",
       "<p>5 rows × 22 columns</p>\n",
       "</div>"
      ],
      "text/plain": [
       "   age  sex  trestbps  chol  fbs  restecg  thalach  exang  oldpeak  ca  ...  \\\n",
       "0   63    1       145   233    1        0      150      0      2.3   0  ...   \n",
       "1   37    1       130   250    0        1      187      0      3.5   0  ...   \n",
       "2   41    0       130   204    0        0      172      0      1.4   0  ...   \n",
       "3   56    1       120   236    0        1      178      0      0.8   0  ...   \n",
       "4   57    0       120   354    0        1      163      1      0.6   0  ...   \n",
       "\n",
       "   cp_1  cp_2  cp_3  thal_0  thal_1  thal_2  thal_3  slope_0  slope_1  slope_2  \n",
       "0     0     0     1       0       1       0       0        1        0        0  \n",
       "1     0     1     0       0       0       1       0        1        0        0  \n",
       "2     1     0     0       0       0       1       0        0        0        1  \n",
       "3     1     0     0       0       0       1       0        0        0        1  \n",
       "4     0     0     0       0       0       1       0        0        0        1  \n",
       "\n",
       "[5 rows x 22 columns]"
      ]
     },
     "execution_count": 14,
     "metadata": {},
     "output_type": "execute_result"
    }
   ],
   "source": [
    "df = df.drop(columns = ['cp', 'thal', 'slope'])\n",
    "df.head()"
   ]
  },
  {
   "cell_type": "markdown",
   "metadata": {},
   "source": [
    "# 6. Models"
   ]
  },
  {
   "cell_type": "markdown",
   "metadata": {},
   "source": [
    "## 6.1 K-Nearest Neighbour (KNN)"
   ]
  },
  {
   "cell_type": "code",
   "execution_count": 15,
   "metadata": {},
   "outputs": [],
   "source": [
    "y = df.target.values \n",
    "x_data = df.drop(['target'], axis = 1)\n",
    "\n",
    "\n",
    "x = (x_data - np.min(x_data)) / (np.max(x_data) - np.min(x_data)).values #normalising data\n",
    "x_train, x_test, y_train, y_test = train_test_split(x,y,test_size = 0.2,random_state=0)\n",
    "\n",
    "x_train = x_train.T\n",
    "y_train = y_train.T\n",
    "x_test = x_test.T\n",
    "y_test = y_test.T"
   ]
  },
  {
   "cell_type": "code",
   "execution_count": 16,
   "metadata": {
    "execution": {
     "iopub.execute_input": "2022-03-08T02:07:00.704122Z",
     "iopub.status.busy": "2022-03-08T02:07:00.703902Z",
     "iopub.status.idle": "2022-03-08T02:07:00.790657Z",
     "shell.execute_reply": "2022-03-08T02:07:00.789803Z",
     "shell.execute_reply.started": "2022-03-08T02:07:00.704096Z"
    }
   },
   "outputs": [
    {
     "name": "stdout",
     "output_type": "stream",
     "text": [
      "2 NN Score: 77.04918032786885%\n"
     ]
    }
   ],
   "source": [
    "from sklearn.neighbors import KNeighborsClassifier\n",
    "\n",
    "knn = KNeighborsClassifier(n_neighbors = 2)\n",
    "knn.fit(x_train.T, y_train.T)\n",
    "\n",
    "prediction = knn.predict(x_test.T)\n",
    "\n",
    "print(\"{} NN Score: {}%\".format(2, knn.score(x_test.T, y_test.T) * 100))"
   ]
  },
  {
   "cell_type": "markdown",
   "metadata": {},
   "source": [
    "This classifier looks for the classes of K nearest neighbours of the given data point and based on the majority of class, it assigns a class to this data point.The number of neighbours can be varied. In this project, we varied them from 1 to 20 neighbours, and found out which scored the most. "
   ]
  },
  {
   "cell_type": "code",
   "execution_count": 17,
   "metadata": {
    "execution": {
     "iopub.execute_input": "2022-03-08T02:07:00.792502Z",
     "iopub.status.busy": "2022-03-08T02:07:00.791915Z",
     "iopub.status.idle": "2022-03-08T02:07:01.230348Z",
     "shell.execute_reply": "2022-03-08T02:07:01.229576Z",
     "shell.execute_reply.started": "2022-03-08T02:07:00.792458Z"
    }
   },
   "outputs": [
    {
     "data": {
      "image/png": "[encoded data removed]",
      "text/plain": [
       "<Figure size 432x288 with 1 Axes>"
      ]
     },
     "metadata": {
      "needs_background": "light"
     },
     "output_type": "display_data"
    },
    {
     "name": "stdout",
     "output_type": "stream",
     "text": [
      "KNN Score Max 88.52459016393442%\n"
     ]
    }
   ],
   "source": [
    "score_list = []\n",
    "for i in range(1,21):\n",
    "    knn2 = KNeighborsClassifier(n_neighbors = i)\n",
    "    knn2.fit(x_train.T, y_train.T)\n",
    "    score_list.append(knn2.score(x_test.T, y_test.T))\n",
    "    \n",
    "plt.plot(range(1,21), score_list)\n",
    "\n",
    "plt.xticks(np.arange(1,21,1))\n",
    "\n",
    "plt.xlabel(\"K value\")\n",
    "plt.ylabel(\"KNN Score\")\n",
    "\n",
    "plt.show()\n",
    "\n",
    "print(\"KNN Score Max {}%\".format((max(score_list)) * 100))"
   ]
  },
  {
   "cell_type": "markdown",
   "metadata": {},
   "source": [
    "Then, we plotted line graph of all the neighbours and the test score of each of the neighbours, to find which has the best maximum score. "
   ]
  },
  {
   "cell_type": "markdown",
   "metadata": {},
   "source": [
    "## 6.2 SVM"
   ]
  },
  {
   "cell_type": "code",
   "execution_count": 18,
   "metadata": {
    "execution": {
     "iopub.execute_input": "2022-03-08T02:07:01.232347Z",
     "iopub.status.busy": "2022-03-08T02:07:01.231618Z",
     "iopub.status.idle": "2022-03-08T02:07:01.248827Z",
     "shell.execute_reply": "2022-03-08T02:07:01.248005Z",
     "shell.execute_reply.started": "2022-03-08T02:07:01.232305Z"
    }
   },
   "outputs": [
    {
     "data": {
      "text/plain": [
       "SVC(random_state=5)"
      ]
     },
     "execution_count": 18,
     "metadata": {},
     "output_type": "execute_result"
    }
   ],
   "source": [
    "from sklearn.svm import SVC\n",
    "\n",
    "svm = SVC(random_state = 5)\n",
    "svm.fit(x_train.T, y_train.T)"
   ]
  },
  {
   "cell_type": "markdown",
   "metadata": {},
   "source": [
    "SVC forms hyperplanes/tubes which seperate classes as much as possible by adjusting the distance between the data points and the hyperplane. There are kernels which decide the hyperplane, in this project we tried the following:-\n",
    "linear, poly, rbf, sigmoid"
   ]
  },
  {
   "cell_type": "code",
   "execution_count": 19,
   "metadata": {},
   "outputs": [],
   "source": [
    "svc_scores = []\n",
    "kernels = ['linear', 'poly', 'rbf', 'sigmoid']\n",
    "for i in range(len(kernels)):\n",
    "    svc_classifier = SVC(kernel = kernels[i])\n",
    "    svc_classifier.fit(x_train.T, y_train.T)\n",
    "    svc_scores.append(svc_classifier.score(x_test.T,y_test.T))"
   ]
  },
  {
   "cell_type": "code",
   "execution_count": 26,
   "metadata": {},
   "outputs": [
    {
     "data": {
      "text/plain": [
       "[0.8524590163934426, 0.819672131147541, 0.8852459016393442, 0.7868852459016393]"
      ]
     },
     "execution_count": 26,
     "metadata": {},
     "output_type": "execute_result"
    }
   ],
   "source": [
    "svc_scores"
   ]
  },
  {
   "cell_type": "code",
   "execution_count": 32,
   "metadata": {
    "execution": {
     "iopub.execute_input": "2022-03-08T02:07:01.250068Z",
     "iopub.status.busy": "2022-03-08T02:07:01.249868Z",
     "iopub.status.idle": "2022-03-08T02:07:01.259163Z",
     "shell.execute_reply": "2022-03-08T02:07:01.258284Z",
     "shell.execute_reply.started": "2022-03-08T02:07:01.250044Z"
    },
    "scrolled": true
   },
   "outputs": [
    {
     "name": "stdout",
     "output_type": "stream",
     "text": [
      "Test Accuracy of SVM: 88.52459016393442%\n"
     ]
    }
   ],
   "source": [
    "print(\"Test Accuracy of SVM: {}%\".format(max(svc_scores)*100))"
   ]
  },
  {
   "cell_type": "markdown",
   "metadata": {},
   "source": [
    "Clearly 'rbf' performed the best for this dataset by acheiving the highest score of ~88.52%"
   ]
  },
  {
   "cell_type": "markdown",
   "metadata": {},
   "source": [
    "## 6.3 Gaussian Naive Bayes"
   ]
  },
  {
   "cell_type": "markdown",
   "metadata": {},
   "source": [
    "Gausian Naive Bayes is used when the data is continuous and assumed to have gaussian distribution."
   ]
  },
  {
   "cell_type": "code",
   "execution_count": null,
   "metadata": {
    "execution": {
     "iopub.execute_input": "2022-03-08T02:07:01.261058Z",
     "iopub.status.busy": "2022-03-08T02:07:01.260474Z",
     "iopub.status.idle": "2022-03-08T02:07:01.276481Z",
     "shell.execute_reply": "2022-03-08T02:07:01.275653Z",
     "shell.execute_reply.started": "2022-03-08T02:07:01.261016Z"
    }
   },
   "outputs": [],
   "source": [
    "from sklearn.naive_bayes import GaussianNB\n",
    "gnb = GaussianNB()\n",
    "gnb.fit(x_train.T, y_train.T)\n",
    "print(\"Test Accuracy of Gaussian Naive Bayes: {}%\".format(gnb.score(x_test.T,y_test.T) * 100))"
   ]
  },
  {
   "cell_type": "markdown",
   "metadata": {},
   "source": [
    "## 6.4 Decision Tree"
   ]
  },
  {
   "cell_type": "markdown",
   "metadata": {},
   "source": [
    "Decision tree forms decision trees and it assigns the class values to each data point. We range the features from 1 to 30 (30 is the total number of features in the dataset after creating dummy variables). In this case, we can vary the maximum number of features to be considered while making the model."
   ]
  },
  {
   "cell_type": "code",
   "execution_count": null,
   "metadata": {
    "execution": {
     "iopub.execute_input": "2022-03-08T02:07:01.277694Z",
     "iopub.status.busy": "2022-03-08T02:07:01.277451Z",
     "iopub.status.idle": "2022-03-08T02:07:01.314972Z",
     "shell.execute_reply": "2022-03-08T02:07:01.314135Z",
     "shell.execute_reply.started": "2022-03-08T02:07:01.277669Z"
    }
   },
   "outputs": [],
   "source": [
    "from sklearn.tree import DecisionTreeClassifier\n",
    "\n",
    "dt = DecisionTreeClassifier()\n",
    "dt.fit(x_train.T, y_train.T)\n",
    "\n",
    "print(\"Accuracy of Decision Tree: {}%\".format(dt.score(x_test.T, y_test.T) * 100))"
   ]
  },
  {
   "cell_type": "code",
   "execution_count": null,
   "metadata": {
    "execution": {
     "iopub.execute_input": "2022-03-08T02:07:01.317567Z",
     "iopub.status.busy": "2022-03-08T02:07:01.317231Z",
     "iopub.status.idle": "2022-03-08T02:07:01.677133Z",
     "shell.execute_reply": "2022-03-08T02:07:01.676515Z",
     "shell.execute_reply.started": "2022-03-08T02:07:01.31749Z"
    }
   },
   "outputs": [],
   "source": [
    "score_list_DT = []\n",
    "for i in range(2,21):\n",
    "    dt2 = DecisionTreeClassifier(max_leaf_nodes = i)\n",
    "    dt2.fit(x_train.T, y_train.T)\n",
    "    score_list_DT.append(dt2.score(x_test.T, y_test.T))\n",
    "    \n",
    "plt.plot(range(2,21), score_list_DT)\n",
    "\n",
    "plt.xticks(np.arange(2,21,1))\n",
    "\n",
    "plt.xlabel(\"Leaf\")\n",
    "plt.ylabel(\"Score\")\n",
    "\n",
    "plt.show()\n",
    "\n",
    "print(\"Decision Tree Max Score: {}%\".format((max(score_list_DT)) * 100))"
   ]
  },
  {
   "cell_type": "markdown",
   "metadata": {},
   "source": [
    "## 6.5 Random Forest"
   ]
  },
  {
   "cell_type": "markdown",
   "metadata": {},
   "source": [
    "Random forest is the next level of decision trees. It makes forests of trees where each tree is formed by a random selection of features from all the features. We varied the number of trees from 2 to 25. "
   ]
  },
  {
   "cell_type": "code",
   "execution_count": null,
   "metadata": {},
   "outputs": [],
   "source": [
    "from sklearn.ensemble import RandomForestClassifier\n",
    "\n",
    "rf = RandomForestClassifier(n_estimators = 1000, random_state = 2)\n",
    "rf.fit(x_train.T, y_train.T)\n",
    "\n",
    "print(\"Random Forest Accuracy Score : {}%\".format(rf.score(x_test.T,y_test.T)*100))"
   ]
  },
  {
   "cell_type": "code",
   "execution_count": null,
   "metadata": {
    "execution": {
     "iopub.execute_input": "2022-03-08T02:07:03.7221Z",
     "iopub.status.busy": "2022-03-08T02:07:03.721868Z",
     "iopub.status.idle": "2022-03-08T02:07:49.085262Z",
     "shell.execute_reply": "2022-03-08T02:07:49.084279Z",
     "shell.execute_reply.started": "2022-03-08T02:07:03.722072Z"
    }
   },
   "outputs": [],
   "source": [
    "score_list_RF = []\n",
    "for i in range(2,25):\n",
    "    rf2 = RandomForestClassifier(n_estimators = 1000, random_state = 2, max_leaf_nodes = i)\n",
    "    rf2.fit(x_train.T, y_train.T)\n",
    "    score_list_RF.append(rf2.score(x_test.T, y_test.T))\n",
    "    \n",
    "plt.plot(range(2,25), score_list_RF)\n",
    "plt.xticks(np.arange(2,25,1))\n",
    "plt.xlabel(\"Leaf\")\n",
    "plt.ylabel(\"Score\")\n",
    "plt.show()\n",
    "print(\"RF Score Max {}%\".format((max(score_list_RF)) * 100))"
   ]
  },
  {
   "cell_type": "markdown",
   "metadata": {},
   "source": [
    "# 7. Model Comparison"
   ]
  },
  {
   "cell_type": "markdown",
   "metadata": {},
   "source": [
    "from the scores below, we can see that the random forest model worked the best with an accuracy of 90.16%."
   ]
  },
  {
   "cell_type": "code",
   "execution_count": null,
   "metadata": {
    "execution": {
     "iopub.execute_input": "2022-03-08T02:08:43.645202Z",
     "iopub.status.busy": "2022-03-08T02:08:43.644163Z",
     "iopub.status.idle": "2022-03-08T02:08:43.661019Z",
     "shell.execute_reply": "2022-03-08T02:08:43.659672Z",
     "shell.execute_reply.started": "2022-03-08T02:08:43.645153Z"
    }
   },
   "outputs": [],
   "source": [
    "compare_models = pd.DataFrame({'Model': [\"KNN\", \"SVM\", \"Gaussian NB\", \"Decision Tree\", \"Random Forest\"], \n",
    "                        'Accuracy': [86.89, 88.52, 88.52, 86.89, 90.16]})\n",
    "compare_models.sort_values(by='Accuracy', ascending=False)"
   ]
  },
  {
   "cell_type": "code",
   "execution_count": null,
   "metadata": {
    "execution": {
     "iopub.execute_input": "2022-03-08T02:08:43.662784Z",
     "iopub.status.busy": "2022-03-08T02:08:43.662499Z",
     "iopub.status.idle": "2022-03-08T02:08:43.887105Z",
     "shell.execute_reply": "2022-03-08T02:08:43.886201Z",
     "shell.execute_reply.started": "2022-03-08T02:08:43.662755Z"
    }
   },
   "outputs": [],
   "source": [
    "models = [\"Logistic Regression\", \"KNN\", \"SVM\", \"Naive Bayes\", \"Decision Tree\", \"Random Forest\", \"Gradient Boosting\"]\n",
    "accuracy = [86.89, 88.52, 88.52, 86.89, 85.25, 90.16, 85.25]\n",
    "colors = [\"#FFAE42\", \"#4B40C0\", \"#AB4E68\", \"#C4A287\",\"#170F11\",\"#C4BBB8\", \"#930DBC\"]\n",
    "\n",
    "sns.set_style(\"darkgrid\")\n",
    "plt.figure(figsize=(20,8))\n",
    "plt.yticks(np.arange(0,100,10))\n",
    "plt.ylabel(\"Accuracy %\")\n",
    "plt.xlabel(\"Algorithms\")\n",
    "sns.barplot(x = models, y = accuracy, palette = colors)\n",
    "plt.show()"
   ]
  }
 ],
 "metadata": {
  "kernelspec": {
   "display_name": "Python 3 (ipykernel)",
   "language": "python",
   "name": "python3"
  },
  "language_info": {
   "codemirror_mode": {
    "name": "ipython",
    "version": 3
   },
   "file_extension": ".py",
   "mimetype": "text/x-python",
   "name": "python",
   "nbconvert_exporter": "python",
   "pygments_lexer": "ipython3",
   "version": "3.9.7"
  }
 },
 "nbformat": 4,
 "nbformat_minor": 4
}
